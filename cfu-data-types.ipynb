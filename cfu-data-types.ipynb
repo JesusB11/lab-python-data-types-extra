{
 "cells": [
  {
   "cell_type": "markdown",
   "metadata": {},
   "source": [
    "# CFU | Data Types"
   ]
  },
  {
   "cell_type": "markdown",
   "metadata": {},
   "source": [
    "## Working with Data Types"
   ]
  },
  {
   "cell_type": "markdown",
   "metadata": {},
   "source": [
    "Objective: Practice working with different data types and their corresponding operations."
   ]
  },
  {
   "cell_type": "markdown",
   "metadata": {},
   "source": [
    "### Exercise 1: Calculate remaining salary"
   ]
  },
  {
   "cell_type": "markdown",
   "metadata": {},
   "source": [
    "In this exercise, prompt the user to enter their personal information such as name, age, address, salary, and expenses, and then perform some calculations to determine how much money they have left after expenses. \n",
    "\n",
    "Use data type casting to ensure that the age, salary, and expenses are stored as integers or floats, as appropriate, and round the remaining money to one decimal. \n",
    "\n",
    "Use a boolean variable to indicate whether the remaining salary is greater than or equal to 500. \n",
    "\n",
    "Finally, you will use string formatting to print a message to the screen in the following format: \n",
    "\"*name*, who is *age* years old, and lives in *address* has *remaining_salary* dollars left from her salary after expenses. It is *is_salary_good* that she has more than $500 left.\", using the mentioned variables.\n",
    "\n",
    "*Hint:* \n",
    "- *You can use the input() function to ask the user to enter their information. Beware that input() function returns a String.*\n",
    "- *You can round the remaining salary to one decimal using the round() function.*\n",
    "- *Use data type conversion functions. Recommended external resources: [Data type conversion](https://www.geeksforgeeks.org/type-conversion-in-python/)*"
   ]
  },
  {
   "cell_type": "code",
   "execution_count": null,
   "metadata": {},
   "outputs": [
    {
     "name": "stdout",
     "output_type": "stream",
     "text": [
      "{'name': 'Eva', 'age': 36, 'address': 'Caracas', 'salary': 32000.0, 'expenses': 30000.0}\n",
      "Eva who is 36 years old and lives in Caracas has $2,000.0 left from her salary after expenses.\n",
      " It is True that she has more than $500 left.\n"
     ]
    }
   ],
   "source": [
    "# Your code here\n",
    "personal_information = {'name': '', 'age' : 0, 'address' : '', 'salary': 0.0, 'expenses' : 0.0}\n",
    "\n",
    "for item in personal_information:\n",
    "    if item == 'name':\n",
    "        personal_information[item] = input('Enter your name: ')\n",
    "    elif item == 'age':\n",
    "        personal_information[item] = int(input('Enter your age: '))\n",
    "    elif item == 'address':\n",
    "        personal_information[item] = input('Enter your address: ')\n",
    "    elif item == 'salary':\n",
    "        personal_information[item] = float(input('Enter your salary: '))\n",
    "    elif item == 'expenses':\n",
    "        personal_information[item] = float(input('Enter your expenses: '))\n",
    "print(personal_information)\n",
    "\n",
    "remaining_salary= personal_information['salary'] - personal_information['expenses']\n",
    "\n",
    "if remaining_salary >= 500:\n",
    "    survivor= True\n",
    "#     print(\"Yes, you can live on this salary\")\n",
    "else:\n",
    "    survivor = False\n",
    "#     print(\"You may need a second job\")\n",
    "\n",
    "# print(personal_information['name'], \"who is\", personal_information['age'], \"old and lives in \", personal_information['address'], \"has\", remaining_salary, \"leftfrom her salary after expenses. It is\", survivor, \"that she has more than $500 left.\")\n",
    "print(f\"{personal_information['name']} who is {personal_information['age']} years old and lives in {personal_information['address']} has ${remaining_salary:,.1f} left from her salary after expenses.\\nIt is {survivor} that she has more than $500 left.\")"
   ]
  },
  {
   "cell_type": "markdown",
   "metadata": {},
   "source": [
    "\n",
    "### Exercise 2: Text Cleaning and Concatenation"
   ]
  },
  {
   "cell_type": "markdown",
   "metadata": {},
   "source": [
    "Write code that takes text from the variable `poem`, removes the punctuation and leaves everything in lowercase. \n",
    "\n",
    "Concatenate the resulting string with the string \"python is awesome!\" and store the result in a new variable. \n",
    "\n",
    "Print the length of the new string.\n",
    "\n",
    "Split the string into a list of strings using the space delimiter, save it in a variable `poem_list` and print it. \n",
    "\n",
    "*Hint:*\n",
    "\n",
    "- *You can use the len() function to get the length of a string.*\n",
    "- *Search string methods to accomplish the other steps. Recommended External Resources: [Python String Methods](https://www.w3schools.com/python/python_ref_string.asp)*\n",
    "- *Use method chaining to simplify your code. If you are not sure what it is, read this tutorial before: https://pyneng.readthedocs.io/en/latest/book/04_data_structures/method_chaining.html*\n"
   ]
  },
  {
   "cell_type": "code",
   "execution_count": 9,
   "metadata": {},
   "outputs": [],
   "source": [
    "poem = \"\"\"Some say the world will end in fire,\n",
    "Some say in ice.\n",
    "From what I’ve tasted of desire\n",
    "I hold with those who favor fire.\n",
    "But if it had to perish twice,\n",
    "I think I know enough of hate\n",
    "To say that for destruction ice\n",
    "Is also great\n",
    "And would suffice.\"\"\""
   ]
  },
  {
   "cell_type": "code",
   "execution_count": 19,
   "metadata": {},
   "outputs": [
    {
     "name": "stdout",
     "output_type": "stream",
     "text": [
      "251\n",
      "['some', 'say', 'the', 'world', 'will', 'end', 'in', 'firesome', 'say', 'in', 'icefrom', 'what', 'i’ve', 'tasted', 'of', 'desirei', 'hold', 'with', 'those', 'who', 'favor', 'firebut', 'if', 'it', 'had', 'to', 'perish', 'twicei', 'think', 'i', 'know', 'enough', 'of', 'hateto', 'say', 'that', 'for', 'destruction', 'iceis', 'also', 'greatand', 'would', 'suffice', 'python', 'is', 'awesome!']\n"
     ]
    }
   ],
   "source": [
    "# Your code here\n",
    "poem_no_puntuation = poem.replace(',', '').replace('.', '').replace('\"',\"\").replace('\\n',\"\")\n",
    "poem_lower= poem_no_puntuation.lower()\n",
    "second_string= 'python is awesome!'\n",
    "# print(poem_lower)\n",
    "new_poem = poem_lower + ' ' + second_string\n",
    "print(len(new_poem))\n",
    "\n",
    "poem_list = new_poem.split(\" \")\n",
    "print(poem_list)"
   ]
  }
 ],
 "metadata": {
  "kernelspec": {
   "display_name": "Python 3",
   "language": "python",
   "name": "python3"
  },
  "language_info": {
   "codemirror_mode": {
    "name": "ipython",
    "version": 3
   },
   "file_extension": ".py",
   "mimetype": "text/x-python",
   "name": "python",
   "nbconvert_exporter": "python",
   "pygments_lexer": "ipython3",
   "version": "3.13.3"
  }
 },
 "nbformat": 4,
 "nbformat_minor": 4
}
